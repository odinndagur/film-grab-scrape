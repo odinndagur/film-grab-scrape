{
 "cells": [
  {
   "cell_type": "code",
   "execution_count": 1,
   "id": "11b37fe8",
   "metadata": {},
   "outputs": [],
   "source": [
    "import re"
   ]
  },
  {
   "cell_type": "code",
   "execution_count": 2,
   "id": "818283f2",
   "metadata": {},
   "outputs": [],
   "source": [
    "s = 'https://i0.wp.com/img.screencaps.us/194/9-ichabodtoadbr/full/ichabod-disneyscreencaps.com-7832.jpg'"
   ]
  },
  {
   "cell_type": "code",
   "execution_count": 3,
   "id": "6e4e238a",
   "metadata": {},
   "outputs": [
    {
     "data": {
      "text/plain": [
       "'https://i0.wp.com/img.screencaps.us/194/9-ichabodtoadbr/full/ichabod-disneyscreencaps.com-7832.jpg'"
      ]
     },
     "execution_count": 3,
     "metadata": {},
     "output_type": "execute_result"
    }
   ],
   "source": [
    "s"
   ]
  },
  {
   "cell_type": "code",
   "execution_count": 12,
   "id": "68ff6c87",
   "metadata": {},
   "outputs": [
    {
     "data": {
      "text/plain": [
       "[('-', '7832', '.jpg')]"
      ]
     },
     "execution_count": 12,
     "metadata": {},
     "output_type": "execute_result"
    }
   ],
   "source": [
    "re.findall('(\\-)(\\d+)(\\.jpg)',s)"
   ]
  },
  {
   "cell_type": "code",
   "execution_count": null,
   "id": "fe67a58a",
   "metadata": {},
   "outputs": [],
   "source": []
  }
 ],
 "metadata": {
  "kernelspec": {
   "display_name": "Python 3 (ipykernel)",
   "language": "python",
   "name": "python3"
  },
  "language_info": {
   "codemirror_mode": {
    "name": "ipython",
    "version": 3
   },
   "file_extension": ".py",
   "mimetype": "text/x-python",
   "name": "python",
   "nbconvert_exporter": "python",
   "pygments_lexer": "ipython3",
   "version": "3.9.10"
  }
 },
 "nbformat": 4,
 "nbformat_minor": 5
}
